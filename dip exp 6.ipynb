{
 "cells": [
  {
   "cell_type": "code",
   "execution_count": 1,
   "id": "72e22412",
   "metadata": {},
   "outputs": [],
   "source": [
    "# average filter"
   ]
  },
  {
   "cell_type": "code",
   "execution_count": null,
   "id": "6a35dace",
   "metadata": {},
   "outputs": [],
   "source": [
    "import cv2\n",
    "import numpy as np\n",
    "img=cv2.imread(\"water.jpg\")\n",
    "img=cv2.resize(img,(500,400))\n",
    "img2=cv2.cvtColor(img,cv2.COLOR_BGR2RGB)\n",
    "kernel=np.ones((11,11),np.float32)/121\n",
    "img3=cv2.filter2D(img2,-1,kernel)\n",
    "cv2.imshow(\"Original\",img2)\n",
    "cv2.imshow(\"Average filter\",img3)\n",
    "cv2.waitKey(0)\n",
    "cv2.destroyAllWindows()\n"
   ]
  },
  {
   "cell_type": "code",
   "execution_count": null,
   "id": "d095613c",
   "metadata": {},
   "outputs": [],
   "source": [
    "# weighted average filter"
   ]
  },
  {
   "cell_type": "code",
   "execution_count": null,
   "id": "90cf7b1a",
   "metadata": {},
   "outputs": [],
   "source": [
    "kernel2=np.array([[1,2,1],[2,4,2],[1,2,1]])/16\n",
    "img4=cv2.filter2D(img2,0,kernel2)\n",
    "cv2.imshow(\"Original\",img2)\n",
    "cv2.imshow(\"Weighted Average filter\",img4)\n",
    "cv2.waitKey(0)\n",
    "cv2.destroyAllWindows()"
   ]
  },
  {
   "cell_type": "code",
   "execution_count": null,
   "id": "266c2f3e",
   "metadata": {},
   "outputs": [],
   "source": [
    "# Gaussian Filter"
   ]
  },
  {
   "cell_type": "code",
   "execution_count": null,
   "id": "f98cb48f",
   "metadata": {},
   "outputs": [],
   "source": [
    "gf=cv2.GaussianBlur(src=img2,ksize=(11,11),sigmaX=0,sigmaY=0)\n",
    "cv2.imshow(\"Original\",img2)\n",
    "cv2.imshow(\"Gaussian filter\",gf)\n",
    "cv2.waitKey(0)\n",
    "cv2.destroyAllWindows()"
   ]
  },
  {
   "cell_type": "code",
   "execution_count": null,
   "id": "cd5e1e4b",
   "metadata": {},
   "outputs": [],
   "source": [
    "# Median filter"
   ]
  },
  {
   "cell_type": "code",
   "execution_count": null,
   "id": "b8c8ebb2",
   "metadata": {},
   "outputs": [],
   "source": [
    "median=cv2.medianBlur(src=img2,ksize=11)\n",
    "cv2.imshow(\"Original\",img2)\n",
    "cv2.imshow(\"Median filter\",median)\n",
    "cv2.waitKey(0)\n",
    "cv2.destroyAllWindows()"
   ]
  },
  {
   "cell_type": "code",
   "execution_count": null,
   "id": "770fc7f3",
   "metadata": {},
   "outputs": [],
   "source": [
    "# Laplacian Kernel"
   ]
  },
  {
   "cell_type": "code",
   "execution_count": null,
   "id": "20111dcc",
   "metadata": {},
   "outputs": [],
   "source": [
    "kernel3=np.array([[0,1,0],[1,-4,1],[0,1,0]])\n",
    "lk=cv2.filter2D(img2,-1,kernel3)\n",
    "cv2.imshow(\"Original\",img2)\n",
    "cv2.imshow(\"Laplacian Kernel filter\",lk)\n",
    "cv2.waitKey(0)\n",
    "cv2.destroyAllWindows()"
   ]
  },
  {
   "cell_type": "code",
   "execution_count": null,
   "id": "b5839176",
   "metadata": {},
   "outputs": [],
   "source": [
    "# Laplacian Operator"
   ]
  },
  {
   "cell_type": "code",
   "execution_count": null,
   "id": "e21cec61",
   "metadata": {},
   "outputs": [],
   "source": [
    "\n",
    "lo=cv2.Laplacian(img2,cv2.CV_64F)\n",
    "cv2.imshow(\"Original\",img2)\n",
    "cv2.imshow(\"Laplacian Operator\",lo)\n",
    "cv2.waitKey(0)\n",
    "cv2.destroyAllWindows()"
   ]
  },
  {
   "cell_type": "code",
   "execution_count": null,
   "id": "7bf4d2c1",
   "metadata": {},
   "outputs": [],
   "source": []
  },
  {
   "cell_type": "code",
   "execution_count": null,
   "id": "40714773",
   "metadata": {},
   "outputs": [],
   "source": []
  }
 ],
 "metadata": {
  "kernelspec": {
   "display_name": "Python 3",
   "language": "python",
   "name": "python3"
  },
  "language_info": {
   "codemirror_mode": {
    "name": "ipython",
    "version": 3
   },
   "file_extension": ".py",
   "mimetype": "text/x-python",
   "name": "python",
   "nbconvert_exporter": "python",
   "pygments_lexer": "ipython3",
   "version": "3.8.8"
  }
 },
 "nbformat": 4,
 "nbformat_minor": 5
}
